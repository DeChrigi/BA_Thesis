{
 "cells": [
  {
   "cell_type": "markdown",
   "metadata": {},
   "source": [
    "Import relevant libraries for network and data handling / transformation"
   ]
  },
  {
   "cell_type": "code",
   "execution_count": 16,
   "metadata": {},
   "outputs": [],
   "source": [
    "import networkx as nx\n",
    "import pandas as pd\n",
    "import os\n",
    "from networkx import PowerIterationFailedConvergence"
   ]
  },
  {
   "cell_type": "markdown",
   "metadata": {},
   "source": [
    "Read all files in the shareholder file directory"
   ]
  },
  {
   "cell_type": "code",
   "execution_count": 17,
   "metadata": {},
   "outputs": [
    {
     "name": "stdout",
     "output_type": "stream",
     "text": [
      "Number of files in specified directory: 61\n",
      "---Finished---\n"
     ]
    }
   ],
   "source": [
    "# Get all Files in raw_data/cartel_shareholders folder\n",
    "files = os.listdir(\"transformed_data/base/shareholders\")\n",
    "files = [f for f in files if f.endswith(\".xlsx\")]\n",
    "\n",
    "# Print number of files\n",
    "print(f\"Number of files in specified directory: {len(files)}\")\n",
    "\n",
    "# Create a list for all dataframes\n",
    "dfs = []\n",
    "\n",
    "# for every file in the folder\n",
    "for f in files:\n",
    "    # Read the file\n",
    "    df = pd.read_excel(\"transformed_data/base/shareholders/\" + f)\n",
    "    # Append the dataframe to the list\n",
    "    dfs.append(df)\n",
    "\n",
    "print(\"---Finished---\")"
   ]
  },
  {
   "cell_type": "markdown",
   "metadata": {},
   "source": [
    "Find the most common investors in the shareholder files (over all years)"
   ]
  },
  {
   "cell_type": "code",
   "execution_count": 18,
   "metadata": {},
   "outputs": [
    {
     "name": "stdout",
     "output_type": "stream",
     "text": [
      "Number of dataframes: 61\n",
      "Number of unique investors: 8246\n",
      "Number of unique cartels: 61\n"
     ]
    }
   ],
   "source": [
    "# print number of dataframes, should be equal to number of files\n",
    "print(f\"Number of dataframes: {len(dfs)}\")\n",
    "\n",
    "# Merge all dataframes into one\n",
    "df_merged = pd.concat(dfs)\n",
    "\n",
    "investor_names = df_merged['investor_name'].unique()\n",
    "cartel_names = df_merged['company_name'].unique()\n",
    "\n",
    "# print amount of uniques\n",
    "print(f\"Number of unique investors: {len(investor_names)}\")\n",
    "print(f\"Number of unique cartels: {len(cartel_names)}\")\n",
    "\n",
    "# order investors by number of companies they are in invested in\n",
    "investor_counts = df_merged['investor_name'].value_counts()\n",
    "\n",
    "# get all companies for each investor\n",
    "investor_companies = df_merged.groupby('investor_name')['company_name'].apply(list)\n",
    "\n",
    "# concatanate all companies for each investor into a string\n",
    "investor_companies = investor_companies.apply(lambda x: ', '.join(x))\n",
    "\n",
    "# merge investor_counts and investor_companies into a dataframe\n",
    "investor_counts = pd.DataFrame(investor_counts)\n",
    "investor_counts['companies'] = investor_companies\n",
    "\n",
    "investor_counts = investor_counts.sort_values(by='count', ascending=False)\n",
    "\n",
    "# save investor_counts to excel\n",
    "investor_counts_df = pd.DataFrame(investor_counts)\n",
    "investor_counts_df.to_excel(\"./transformed_data/connected_shareholder_data/investor_counts.xlsx\", index=True)"
   ]
  },
  {
   "cell_type": "markdown",
   "metadata": {},
   "source": [
    "Create a graph for each year for the unioned shareholder files"
   ]
  },
  {
   "cell_type": "code",
   "execution_count": 19,
   "metadata": {},
   "outputs": [
    {
     "name": "stdout",
     "output_type": "stream",
     "text": [
      "Year: 2011, Number of nodes: 4531, Number of edges: 23494\n",
      "Graph saved as graphml file for year 2011\n",
      "Year: 2010, Number of nodes: 4756, Number of edges: 25037\n",
      "Graph saved as graphml file for year 2010\n",
      "Year: 2009, Number of nodes: 4743, Number of edges: 25607\n",
      "Graph saved as graphml file for year 2009\n",
      "Year: 2008, Number of nodes: 4538, Number of edges: 26401\n",
      "Graph saved as graphml file for year 2008\n",
      "Year: 2007, Number of nodes: 4423, Number of edges: 26198\n",
      "Graph saved as graphml file for year 2007\n",
      "Year: 2006, Number of nodes: 4353, Number of edges: 22368\n",
      "Graph saved as graphml file for year 2006\n",
      "Year: 2005, Number of nodes: 4124, Number of edges: 21055\n",
      "Graph saved as graphml file for year 2005\n",
      "Year: 2004, Number of nodes: 3602, Number of edges: 19783\n",
      "Graph saved as graphml file for year 2004\n",
      "Year: 2003, Number of nodes: 3351, Number of edges: 19690\n",
      "Graph saved as graphml file for year 2003\n",
      "Year: 2002, Number of nodes: 3286, Number of edges: 19786\n",
      "Graph saved as graphml file for year 2002\n",
      "Year: 2001, Number of nodes: 3183, Number of edges: 19092\n",
      "Graph saved as graphml file for year 2001\n",
      "Year: 2000, Number of nodes: 2955, Number of edges: 17596\n",
      "Graph saved as graphml file for year 2000\n",
      "Year: 1999, Number of nodes: 2557, Number of edges: 14205\n",
      "Graph saved as graphml file for year 1999\n",
      "Year: 1998, Number of nodes: 2151, Number of edges: 11176\n",
      "Graph saved as graphml file for year 1998\n",
      "Year: 1997, Number of nodes: 1799, Number of edges: 8708\n",
      "Graph saved as graphml file for year 1997\n",
      "---Finished---\n"
     ]
    }
   ],
   "source": [
    "# get all perc_os columns in the dataframe\n",
    "perc_os_columns = [col for col in df_merged.columns if 'perc_os' in col]\n",
    "\n",
    "# for each column in perc_os_columns\n",
    "for col in perc_os_columns:\n",
    "\n",
    "    # Get year from the column name\n",
    "    year = col[-4:]\n",
    "\n",
    "    # Define new Graph\n",
    "    G = nx.Graph()\n",
    "\n",
    "    # for each row in the dataframe\n",
    "    for _, row in df_merged.iterrows():\n",
    "\n",
    "        # if the column, row value is not null\n",
    "        if pd.notnull(row[col]):\n",
    "\n",
    "            # Get the company name\n",
    "            company_name = row['company_name']\n",
    "\n",
    "            # Get the investor name\n",
    "            investor_name = row['investor_name']\n",
    "\n",
    "            # Get the perc_os value\n",
    "            perc_os = row[col]\n",
    "\n",
    "            # Add the company and investor to the graph\n",
    "            G.add_node(company_name, type='Company')\n",
    "            G.add_node(investor_name, type='Investor')\n",
    "\n",
    "            # Add an edge between the company and investor with the perc_os value as weight\n",
    "            G.add_edge(company_name, investor_name, weight=perc_os)\n",
    "\n",
    "    # Get the number of nodes in the graph\n",
    "    num_nodes = len(G.nodes)\n",
    "    # Get the number of edges in the graph\n",
    "    num_edges = len(G.edges)\n",
    "\n",
    "    # Print the number of nodes and edges\n",
    "    print(f\"Year: {year}, Number of nodes: {num_nodes}, Number of edges: {num_edges}\")\n",
    "\n",
    "    nx.write_graphml(G, f\"./transformed_data/connected_shareholder_networks/connected_shareholder_network_{year}.graphml\", named_key_ids=True, infer_numeric_types=True)\n",
    "\n",
    "    print(f\"Graph saved as graphml file for year {year}\") \n",
    "\n",
    "print(\"---Finished---\")           \n"
   ]
  },
  {
   "cell_type": "markdown",
   "metadata": {},
   "source": [
    "Read the created graphml files back into a list"
   ]
  },
  {
   "cell_type": "code",
   "execution_count": 20,
   "metadata": {},
   "outputs": [
    {
     "name": "stdout",
     "output_type": "stream",
     "text": [
      "Number of graphs read: 15\n"
     ]
    }
   ],
   "source": [
    "connected_shareholders_graph_list = [] # list of graphs\n",
    "connected_shareholders_year_list = [] # list of years -> to see which graph belongs to which year\n",
    "\n",
    "for file in os.listdir(\"./transformed_data/connected_shareholder_networks\"):\n",
    "    if file.endswith(\".graphml\"):\n",
    "        # create new graph from .graphml file\n",
    "        G = nx.read_graphml(f\"./transformed_data/connected_shareholder_networks/{file}\")\n",
    "        # add graph to list\n",
    "        connected_shareholders_graph_list.append(G)\n",
    "        # add year to list\n",
    "        connected_shareholders_year_list.append(file.split(\"_\")[-1].split(\".\")[0])\n",
    "\n",
    "print(f\"Number of graphs read: {len(connected_shareholders_graph_list)}\")"
   ]
  },
  {
   "cell_type": "markdown",
   "metadata": {},
   "source": [
    "Calculate stats over the whole network for each year"
   ]
  },
  {
   "cell_type": "code",
   "execution_count": 11,
   "metadata": {},
   "outputs": [
    {
     "name": "stdout",
     "output_type": "stream",
     "text": [
      "Year: 1997 finished\n",
      "Year: 1998 finished\n",
      "Year: 1999 finished\n",
      "Year: 2000 finished\n",
      "Year: 2001 finished\n",
      "Year: 2002 finished\n",
      "Year: 2003 finished\n",
      "Year: 2004 finished\n",
      "Year: 2005 finished\n",
      "Year: 2006 finished\n",
      "Year: 2007 finished\n",
      "Year: 2008 finished\n",
      "Year: 2009 finished\n",
      "Year: 2010 finished\n",
      "Year: 2011 finished\n",
      "---Finished---\n"
     ]
    }
   ],
   "source": [
    "# Prepare list to collect rows\n",
    "network_stats_list = []\n",
    "\n",
    "# for each graph in the list\n",
    "for graph in connected_shareholders_graph_list:\n",
    "    # Get the year from the graph name\n",
    "    year = connected_shareholders_year_list[connected_shareholders_graph_list.index(graph)]\n",
    "    # Get the number of nodes in the graph\n",
    "    num_nodes = len(graph.nodes)\n",
    "    # Get the number of edges in the graph\n",
    "    num_edges = len(graph.edges)\n",
    "    # Calculate the density of the graph (How connected is the network)\n",
    "    density = nx.density(graph)\n",
    "    \n",
    "    # Calculate modularity\n",
    "    partition = nx.community.greedy_modularity_communities(graph)\n",
    "    modularity = nx.community.modularity(graph, partition)\n",
    "    \n",
    "    # Average path length\n",
    "    try:\n",
    "        avg_path_length = nx.average_shortest_path_length(graph)\n",
    "    except nx.NetworkXError:\n",
    "        avg_path_length = float('inf')  # Handle disconnected graphs\n",
    "\n",
    "    # Add this row to the list\n",
    "    network_stats_list.append({\n",
    "        'Year': year,\n",
    "        'Number of nodes': num_nodes,\n",
    "        'Number of edges': num_edges,\n",
    "        'Density': density,\n",
    "        'Modularity': modularity,\n",
    "        'Average path length': avg_path_length\n",
    "    })\n",
    "\n",
    "    print(f\"Year: {year} finished\")\n",
    "\n",
    "# Convert to DataFrame at the end\n",
    "network_stats_df = pd.DataFrame(network_stats_list)\n",
    "\n",
    "# Save to Excel\n",
    "network_stats_df.to_excel(\"./transformed_data/connected_shareholder_data/shareholder_network_stats.xlsx\", index=False)\n",
    "\n",
    "print(\"---Finished---\")"
   ]
  },
  {
   "cell_type": "markdown",
   "metadata": {},
   "source": [
    "Calculate node stats for the investors (Since there are so many, we can only calculate a few metrics)"
   ]
  },
  {
   "cell_type": "code",
   "execution_count": 21,
   "metadata": {},
   "outputs": [
    {
     "name": "stdout",
     "output_type": "stream",
     "text": [
      "Year: 1997 finished\n",
      "Year: 1998 finished\n",
      "Year: 1999 finished\n",
      "Year: 2000 finished\n",
      "Year: 2001 finished\n",
      "Year: 2002 finished\n",
      "Year: 2003 finished\n",
      "Year: 2004 finished\n",
      "Year: 2005 finished\n",
      "Year: 2006 finished\n",
      "Year: 2007 finished\n",
      "Year: 2008 finished\n",
      "Year: 2009 finished\n",
      "Year: 2010 finished\n",
      "Year: 2011 finished\n"
     ]
    }
   ],
   "source": [
    "# Define a list to collect measures\n",
    "investor_measure_list = []\n",
    "\n",
    "# for each graph in the list\n",
    "for graph in connected_shareholders_graph_list:\n",
    "\n",
    "    # Get the year from the graph name\n",
    "    year = connected_shareholders_year_list[connected_shareholders_graph_list.index(graph)]\n",
    "\n",
    "    # For each node in the graph\n",
    "    for node in graph.nodes:\n",
    "\n",
    "        # Get the node type\n",
    "        node_type = graph.nodes[node]['type']\n",
    "\n",
    "        # Get the node name\n",
    "        node_name = node\n",
    " \n",
    "        if node_type == 'Investor':\n",
    "            \n",
    "            # Get the number of companies the investor is invested in\n",
    "            degree = graph.degree(node)\n",
    "\n",
    "            # Get the sum of the weights of the edges connected to the investor\n",
    "            weight_sum = sum([graph[node][neighbor]['weight'] for neighbor in graph.neighbors(node)])\n",
    "\n",
    "            # Get the average weight of the edges connected to the investor\n",
    "            avg_weight = weight_sum / degree if degree > 0 else 0\n",
    "\n",
    "            # Get the maximum weight of the edges connected to the investor\n",
    "            max_weight = max([graph[node][neighbor]['weight'] for neighbor in graph.neighbors(node)]) if degree > 0 else 0\n",
    "\n",
    "            # calculate centralities of nodes (Takes way too long - disabled for now)\n",
    "            #degree_centrality = nx.degree_centrality(graph)[node]\n",
    "            #closeness_centrality = nx.closeness_centrality(graph)[node]\n",
    "            #betweenness_centrality = nx.betweenness_centrality(graph)[node]\n",
    "            #eigenvector_centrality = nx.eigenvector_centrality(graph)[node]\n",
    "            #harmonic_centrality = nx.harmonic_centrality(graph)[node]\n",
    "            #katz_centrality = nx.katz_centrality(graph)[node]\n",
    "\n",
    "            # add measures to dictionary\n",
    "            measures = {\n",
    "                'year': year,\n",
    "                'node_name': node_name,\n",
    "                'node_type': node_type,\n",
    "                'degree': degree,\n",
    "                'weight_sum': weight_sum,\n",
    "                'avg_weight': avg_weight,\n",
    "                'max_weight': max_weight,\n",
    "            }\n",
    "\n",
    "            investor_measure_list.append(measures)\n",
    "    \n",
    "    print(f\"Year: {year} finished\")\n",
    "\n",
    "# Convert to DataFrame at the end\n",
    "df = pd.DataFrame(investor_measure_list)\n",
    "\n",
    "# Save to Excel\n",
    "df.to_excel(\"./transformed_data/connected_shareholder_data/shareholder_node_stats.xlsx\", index=False)\n"
   ]
  },
  {
   "cell_type": "markdown",
   "metadata": {},
   "source": [
    "Calculate the stats for the Company nodes (In total 61 so we should be able to calculate a few metrics) takes a long time anyway"
   ]
  },
  {
   "cell_type": "code",
   "execution_count": 24,
   "metadata": {},
   "outputs": [
    {
     "ename": "KeyboardInterrupt",
     "evalue": "",
     "output_type": "error",
     "traceback": [
      "\u001b[1;31m---------------------------------------------------------------------------\u001b[0m",
      "\u001b[1;31mKeyboardInterrupt\u001b[0m                         Traceback (most recent call last)",
      "Cell \u001b[1;32mIn[24], line 36\u001b[0m\n\u001b[0;32m     34\u001b[0m closeness_centrality \u001b[38;5;241m=\u001b[39m nx\u001b[38;5;241m.\u001b[39mcloseness_centrality(graph)[node]\n\u001b[0;32m     35\u001b[0m betweenness_centrality \u001b[38;5;241m=\u001b[39m nx\u001b[38;5;241m.\u001b[39mbetweenness_centrality(graph)[node]\n\u001b[1;32m---> 36\u001b[0m harmonic_centrality \u001b[38;5;241m=\u001b[39m \u001b[43mnx\u001b[49m\u001b[38;5;241;43m.\u001b[39;49m\u001b[43mharmonic_centrality\u001b[49m\u001b[43m(\u001b[49m\u001b[43mgraph\u001b[49m\u001b[43m)\u001b[49m[node]\n\u001b[0;32m     37\u001b[0m pagerank \u001b[38;5;241m=\u001b[39m nx\u001b[38;5;241m.\u001b[39mpagerank(graph)[node]\n\u001b[0;32m     39\u001b[0m \u001b[38;5;28;01mtry\u001b[39;00m:\n",
      "File \u001b[1;32m<class 'networkx.utils.decorators.argmap'> compilation 75:3\u001b[0m, in \u001b[0;36margmap_harmonic_centrality_72\u001b[1;34m(G, nbunch, distance, sources, backend, **backend_kwargs)\u001b[0m\n\u001b[0;32m      1\u001b[0m \u001b[38;5;28;01mimport\u001b[39;00m\u001b[38;5;250m \u001b[39m\u001b[38;5;21;01mbz2\u001b[39;00m\n\u001b[0;32m      2\u001b[0m \u001b[38;5;28;01mimport\u001b[39;00m\u001b[38;5;250m \u001b[39m\u001b[38;5;21;01mcollections\u001b[39;00m\n\u001b[1;32m----> 3\u001b[0m \u001b[38;5;28;01mimport\u001b[39;00m\u001b[38;5;250m \u001b[39m\u001b[38;5;21;01mgzip\u001b[39;00m\n\u001b[0;32m      4\u001b[0m \u001b[38;5;28;01mimport\u001b[39;00m\u001b[38;5;250m \u001b[39m\u001b[38;5;21;01minspect\u001b[39;00m\n\u001b[0;32m      5\u001b[0m \u001b[38;5;28;01mimport\u001b[39;00m\u001b[38;5;250m \u001b[39m\u001b[38;5;21;01mitertools\u001b[39;00m\n",
      "File \u001b[1;32mc:\\workarea\\BA_Thesis_Git\\BA_Thesis\\.venv\\Lib\\site-packages\\networkx\\utils\\backends.py:967\u001b[0m, in \u001b[0;36m_dispatchable.__call__\u001b[1;34m(self, backend, *args, **kwargs)\u001b[0m\n\u001b[0;32m    965\u001b[0m     \u001b[38;5;28;01mif\u001b[39;00m backend \u001b[38;5;129;01mis\u001b[39;00m \u001b[38;5;129;01mnot\u001b[39;00m \u001b[38;5;28;01mNone\u001b[39;00m \u001b[38;5;129;01mand\u001b[39;00m backend \u001b[38;5;241m!=\u001b[39m \u001b[38;5;124m\"\u001b[39m\u001b[38;5;124mnetworkx\u001b[39m\u001b[38;5;124m\"\u001b[39m:\n\u001b[0;32m    966\u001b[0m         \u001b[38;5;28;01mraise\u001b[39;00m \u001b[38;5;167;01mImportError\u001b[39;00m(\u001b[38;5;124mf\u001b[39m\u001b[38;5;124m\"\u001b[39m\u001b[38;5;124m'\u001b[39m\u001b[38;5;132;01m{\u001b[39;00mbackend\u001b[38;5;132;01m}\u001b[39;00m\u001b[38;5;124m'\u001b[39m\u001b[38;5;124m backend is not installed\u001b[39m\u001b[38;5;124m\"\u001b[39m)\n\u001b[1;32m--> 967\u001b[0m     \u001b[38;5;28;01mreturn\u001b[39;00m \u001b[38;5;28;43mself\u001b[39;49m\u001b[38;5;241;43m.\u001b[39;49m\u001b[43morig_func\u001b[49m\u001b[43m(\u001b[49m\u001b[38;5;241;43m*\u001b[39;49m\u001b[43margs\u001b[49m\u001b[43m,\u001b[49m\u001b[43m \u001b[49m\u001b[38;5;241;43m*\u001b[39;49m\u001b[38;5;241;43m*\u001b[39;49m\u001b[43mkwargs\u001b[49m\u001b[43m)\u001b[49m\n\u001b[0;32m    969\u001b[0m \u001b[38;5;66;03m# Use `backend_name` in this function instead of `backend`.\u001b[39;00m\n\u001b[0;32m    970\u001b[0m \u001b[38;5;66;03m# This is purely for aesthetics and to make it easier to search for this\u001b[39;00m\n\u001b[0;32m    971\u001b[0m \u001b[38;5;66;03m# variable since \"backend\" is used in many comments and log/error messages.\u001b[39;00m\n\u001b[0;32m    972\u001b[0m backend_name \u001b[38;5;241m=\u001b[39m backend\n",
      "File \u001b[1;32mc:\\workarea\\BA_Thesis_Git\\BA_Thesis\\.venv\\Lib\\site-packages\\networkx\\algorithms\\centrality\\harmonic.py:82\u001b[0m, in \u001b[0;36mharmonic_centrality\u001b[1;34m(G, nbunch, distance, sources)\u001b[0m\n\u001b[0;32m     80\u001b[0m spl \u001b[38;5;241m=\u001b[39m partial(nx\u001b[38;5;241m.\u001b[39mshortest_path_length, G, weight\u001b[38;5;241m=\u001b[39mdistance)\n\u001b[0;32m     81\u001b[0m \u001b[38;5;28;01mfor\u001b[39;00m v \u001b[38;5;129;01min\u001b[39;00m sources:\n\u001b[1;32m---> 82\u001b[0m     dist \u001b[38;5;241m=\u001b[39m \u001b[43mspl\u001b[49m\u001b[43m(\u001b[49m\u001b[43mv\u001b[49m\u001b[43m)\u001b[49m\n\u001b[0;32m     83\u001b[0m     \u001b[38;5;28;01mfor\u001b[39;00m u \u001b[38;5;129;01min\u001b[39;00m nbunch\u001b[38;5;241m.\u001b[39mintersection(dist):\n\u001b[0;32m     84\u001b[0m         d \u001b[38;5;241m=\u001b[39m dist[u]\n",
      "File \u001b[1;32m<class 'networkx.utils.decorators.argmap'> compilation 79:3\u001b[0m, in \u001b[0;36margmap_shortest_path_length_76\u001b[1;34m(G, source, target, weight, method, backend, **backend_kwargs)\u001b[0m\n\u001b[0;32m      1\u001b[0m \u001b[38;5;28;01mimport\u001b[39;00m\u001b[38;5;250m \u001b[39m\u001b[38;5;21;01mbz2\u001b[39;00m\n\u001b[0;32m      2\u001b[0m \u001b[38;5;28;01mimport\u001b[39;00m\u001b[38;5;250m \u001b[39m\u001b[38;5;21;01mcollections\u001b[39;00m\n\u001b[1;32m----> 3\u001b[0m \u001b[38;5;28;01mimport\u001b[39;00m\u001b[38;5;250m \u001b[39m\u001b[38;5;21;01mgzip\u001b[39;00m\n\u001b[0;32m      4\u001b[0m \u001b[38;5;28;01mimport\u001b[39;00m\u001b[38;5;250m \u001b[39m\u001b[38;5;21;01minspect\u001b[39;00m\n\u001b[0;32m      5\u001b[0m \u001b[38;5;28;01mimport\u001b[39;00m\u001b[38;5;250m \u001b[39m\u001b[38;5;21;01mitertools\u001b[39;00m\n",
      "File \u001b[1;32mc:\\workarea\\BA_Thesis_Git\\BA_Thesis\\.venv\\Lib\\site-packages\\networkx\\utils\\backends.py:967\u001b[0m, in \u001b[0;36m_dispatchable.__call__\u001b[1;34m(self, backend, *args, **kwargs)\u001b[0m\n\u001b[0;32m    965\u001b[0m     \u001b[38;5;28;01mif\u001b[39;00m backend \u001b[38;5;129;01mis\u001b[39;00m \u001b[38;5;129;01mnot\u001b[39;00m \u001b[38;5;28;01mNone\u001b[39;00m \u001b[38;5;129;01mand\u001b[39;00m backend \u001b[38;5;241m!=\u001b[39m \u001b[38;5;124m\"\u001b[39m\u001b[38;5;124mnetworkx\u001b[39m\u001b[38;5;124m\"\u001b[39m:\n\u001b[0;32m    966\u001b[0m         \u001b[38;5;28;01mraise\u001b[39;00m \u001b[38;5;167;01mImportError\u001b[39;00m(\u001b[38;5;124mf\u001b[39m\u001b[38;5;124m\"\u001b[39m\u001b[38;5;124m'\u001b[39m\u001b[38;5;132;01m{\u001b[39;00mbackend\u001b[38;5;132;01m}\u001b[39;00m\u001b[38;5;124m'\u001b[39m\u001b[38;5;124m backend is not installed\u001b[39m\u001b[38;5;124m\"\u001b[39m)\n\u001b[1;32m--> 967\u001b[0m     \u001b[38;5;28;01mreturn\u001b[39;00m \u001b[38;5;28;43mself\u001b[39;49m\u001b[38;5;241;43m.\u001b[39;49m\u001b[43morig_func\u001b[49m\u001b[43m(\u001b[49m\u001b[38;5;241;43m*\u001b[39;49m\u001b[43margs\u001b[49m\u001b[43m,\u001b[49m\u001b[43m \u001b[49m\u001b[38;5;241;43m*\u001b[39;49m\u001b[38;5;241;43m*\u001b[39;49m\u001b[43mkwargs\u001b[49m\u001b[43m)\u001b[49m\n\u001b[0;32m    969\u001b[0m \u001b[38;5;66;03m# Use `backend_name` in this function instead of `backend`.\u001b[39;00m\n\u001b[0;32m    970\u001b[0m \u001b[38;5;66;03m# This is purely for aesthetics and to make it easier to search for this\u001b[39;00m\n\u001b[0;32m    971\u001b[0m \u001b[38;5;66;03m# variable since \"backend\" is used in many comments and log/error messages.\u001b[39;00m\n\u001b[0;32m    972\u001b[0m backend_name \u001b[38;5;241m=\u001b[39m backend\n",
      "File \u001b[1;32mc:\\workarea\\BA_Thesis_Git\\BA_Thesis\\.venv\\Lib\\site-packages\\networkx\\algorithms\\shortest_paths\\generic.py:316\u001b[0m, in \u001b[0;36mshortest_path_length\u001b[1;34m(G, source, target, weight, method)\u001b[0m\n\u001b[0;32m    313\u001b[0m \u001b[38;5;28;01mif\u001b[39;00m target \u001b[38;5;129;01mis\u001b[39;00m \u001b[38;5;28;01mNone\u001b[39;00m:\n\u001b[0;32m    314\u001b[0m     \u001b[38;5;66;03m# Find paths to all nodes accessible from the source.\u001b[39;00m\n\u001b[0;32m    315\u001b[0m     \u001b[38;5;28;01mif\u001b[39;00m method \u001b[38;5;241m==\u001b[39m \u001b[38;5;124m\"\u001b[39m\u001b[38;5;124munweighted\u001b[39m\u001b[38;5;124m\"\u001b[39m:\n\u001b[1;32m--> 316\u001b[0m         paths \u001b[38;5;241m=\u001b[39m \u001b[43mnx\u001b[49m\u001b[38;5;241;43m.\u001b[39;49m\u001b[43msingle_source_shortest_path_length\u001b[49m\u001b[43m(\u001b[49m\u001b[43mG\u001b[49m\u001b[43m,\u001b[49m\u001b[43m \u001b[49m\u001b[43msource\u001b[49m\u001b[43m)\u001b[49m\n\u001b[0;32m    317\u001b[0m     \u001b[38;5;28;01melif\u001b[39;00m method \u001b[38;5;241m==\u001b[39m \u001b[38;5;124m\"\u001b[39m\u001b[38;5;124mdijkstra\u001b[39m\u001b[38;5;124m\"\u001b[39m:\n\u001b[0;32m    318\u001b[0m         path_length \u001b[38;5;241m=\u001b[39m nx\u001b[38;5;241m.\u001b[39msingle_source_dijkstra_path_length\n",
      "File \u001b[1;32m<class 'networkx.utils.decorators.argmap'> compilation 53:3\u001b[0m, in \u001b[0;36margmap_single_source_shortest_path_length_50\u001b[1;34m(G, source, cutoff, backend, **backend_kwargs)\u001b[0m\n\u001b[0;32m      1\u001b[0m \u001b[38;5;28;01mimport\u001b[39;00m\u001b[38;5;250m \u001b[39m\u001b[38;5;21;01mbz2\u001b[39;00m\n\u001b[0;32m      2\u001b[0m \u001b[38;5;28;01mimport\u001b[39;00m\u001b[38;5;250m \u001b[39m\u001b[38;5;21;01mcollections\u001b[39;00m\n\u001b[1;32m----> 3\u001b[0m \u001b[38;5;28;01mimport\u001b[39;00m\u001b[38;5;250m \u001b[39m\u001b[38;5;21;01mgzip\u001b[39;00m\n\u001b[0;32m      4\u001b[0m \u001b[38;5;28;01mimport\u001b[39;00m\u001b[38;5;250m \u001b[39m\u001b[38;5;21;01minspect\u001b[39;00m\n\u001b[0;32m      5\u001b[0m \u001b[38;5;28;01mimport\u001b[39;00m\u001b[38;5;250m \u001b[39m\u001b[38;5;21;01mitertools\u001b[39;00m\n",
      "File \u001b[1;32mc:\\workarea\\BA_Thesis_Git\\BA_Thesis\\.venv\\Lib\\site-packages\\networkx\\utils\\backends.py:967\u001b[0m, in \u001b[0;36m_dispatchable.__call__\u001b[1;34m(self, backend, *args, **kwargs)\u001b[0m\n\u001b[0;32m    965\u001b[0m     \u001b[38;5;28;01mif\u001b[39;00m backend \u001b[38;5;129;01mis\u001b[39;00m \u001b[38;5;129;01mnot\u001b[39;00m \u001b[38;5;28;01mNone\u001b[39;00m \u001b[38;5;129;01mand\u001b[39;00m backend \u001b[38;5;241m!=\u001b[39m \u001b[38;5;124m\"\u001b[39m\u001b[38;5;124mnetworkx\u001b[39m\u001b[38;5;124m\"\u001b[39m:\n\u001b[0;32m    966\u001b[0m         \u001b[38;5;28;01mraise\u001b[39;00m \u001b[38;5;167;01mImportError\u001b[39;00m(\u001b[38;5;124mf\u001b[39m\u001b[38;5;124m\"\u001b[39m\u001b[38;5;124m'\u001b[39m\u001b[38;5;132;01m{\u001b[39;00mbackend\u001b[38;5;132;01m}\u001b[39;00m\u001b[38;5;124m'\u001b[39m\u001b[38;5;124m backend is not installed\u001b[39m\u001b[38;5;124m\"\u001b[39m)\n\u001b[1;32m--> 967\u001b[0m     \u001b[38;5;28;01mreturn\u001b[39;00m \u001b[38;5;28;43mself\u001b[39;49m\u001b[38;5;241;43m.\u001b[39;49m\u001b[43morig_func\u001b[49m\u001b[43m(\u001b[49m\u001b[38;5;241;43m*\u001b[39;49m\u001b[43margs\u001b[49m\u001b[43m,\u001b[49m\u001b[43m \u001b[49m\u001b[38;5;241;43m*\u001b[39;49m\u001b[38;5;241;43m*\u001b[39;49m\u001b[43mkwargs\u001b[49m\u001b[43m)\u001b[49m\n\u001b[0;32m    969\u001b[0m \u001b[38;5;66;03m# Use `backend_name` in this function instead of `backend`.\u001b[39;00m\n\u001b[0;32m    970\u001b[0m \u001b[38;5;66;03m# This is purely for aesthetics and to make it easier to search for this\u001b[39;00m\n\u001b[0;32m    971\u001b[0m \u001b[38;5;66;03m# variable since \"backend\" is used in many comments and log/error messages.\u001b[39;00m\n\u001b[0;32m    972\u001b[0m backend_name \u001b[38;5;241m=\u001b[39m backend\n",
      "File \u001b[1;32mc:\\workarea\\BA_Thesis_Git\\BA_Thesis\\.venv\\Lib\\site-packages\\networkx\\algorithms\\shortest_paths\\unweighted.py:63\u001b[0m, in \u001b[0;36msingle_source_shortest_path_length\u001b[1;34m(G, source, cutoff)\u001b[0m\n\u001b[0;32m     61\u001b[0m     cutoff \u001b[38;5;241m=\u001b[39m \u001b[38;5;28mfloat\u001b[39m(\u001b[38;5;124m\"\u001b[39m\u001b[38;5;124minf\u001b[39m\u001b[38;5;124m\"\u001b[39m)\n\u001b[0;32m     62\u001b[0m nextlevel \u001b[38;5;241m=\u001b[39m [source]\n\u001b[1;32m---> 63\u001b[0m \u001b[38;5;28;01mreturn\u001b[39;00m \u001b[38;5;28;43mdict\u001b[39;49m\u001b[43m(\u001b[49m\u001b[43m_single_shortest_path_length\u001b[49m\u001b[43m(\u001b[49m\u001b[43mG\u001b[49m\u001b[38;5;241;43m.\u001b[39;49m\u001b[43m_adj\u001b[49m\u001b[43m,\u001b[49m\u001b[43m \u001b[49m\u001b[43mnextlevel\u001b[49m\u001b[43m,\u001b[49m\u001b[43m \u001b[49m\u001b[43mcutoff\u001b[49m\u001b[43m)\u001b[49m\u001b[43m)\u001b[49m\n",
      "File \u001b[1;32mc:\\workarea\\BA_Thesis_Git\\BA_Thesis\\.venv\\Lib\\site-packages\\networkx\\algorithms\\shortest_paths\\unweighted.py:91\u001b[0m, in \u001b[0;36m_single_shortest_path_length\u001b[1;34m(adj, firstlevel, cutoff)\u001b[0m\n\u001b[0;32m     89\u001b[0m \u001b[38;5;28;01mfor\u001b[39;00m v \u001b[38;5;129;01min\u001b[39;00m thislevel:\n\u001b[0;32m     90\u001b[0m     \u001b[38;5;28;01mfor\u001b[39;00m w \u001b[38;5;129;01min\u001b[39;00m adj[v]:\n\u001b[1;32m---> 91\u001b[0m         \u001b[38;5;28;01mif\u001b[39;00m w \u001b[38;5;129;01mnot\u001b[39;00m \u001b[38;5;129;01min\u001b[39;00m seen:\n\u001b[0;32m     92\u001b[0m             seen\u001b[38;5;241m.\u001b[39madd(w)\n\u001b[0;32m     93\u001b[0m             nextlevel\u001b[38;5;241m.\u001b[39mappend(w)\n",
      "\u001b[1;31mKeyboardInterrupt\u001b[0m: "
     ]
    }
   ],
   "source": [
    "# Define a list to collect measures\n",
    "company_measure_list = []\n",
    "\n",
    "# for each graph in the list\n",
    "for graph in connected_shareholders_graph_list:\n",
    "\n",
    "    # Get the year \n",
    "    year = connected_shareholders_year_list[connected_shareholders_graph_list.index(graph)]\n",
    "\n",
    "    # For each node in the graph\n",
    "    for node in graph.nodes:\n",
    "\n",
    "        # Get the node type\n",
    "        node_type = graph.nodes[node]['type']\n",
    "\n",
    "        node_name = node\n",
    " \n",
    "        if node_type == 'Company':\n",
    "\n",
    "            # Get the number of companies the investor is invested in\n",
    "            degree = graph.degree(node)\n",
    "\n",
    "            # Get the sum of the weights of the edges connected to the company\n",
    "            weight_sum = sum([graph[node][neighbor]['weight'] for neighbor in graph.neighbors(node)])\n",
    "\n",
    "            # Get the average weight of the edges connected to the company\n",
    "            avg_weight = weight_sum / degree if degree > 0 else 0\n",
    "\n",
    "            # Get the maximum weight of the edges connected to the company\n",
    "            max_weight = max([graph[node][neighbor]['weight'] for neighbor in graph.neighbors(node)]) if degree > 0 else 0\n",
    "\n",
    "            # calculate the centralities for the company node\n",
    "            degree_centrality = nx.degree_centrality(graph)[node]\n",
    "            closeness_centrality = nx.closeness_centrality(graph)[node]\n",
    "            betweenness_centrality = nx.betweenness_centrality(graph)[node]\n",
    "            harmonic_centrality = nx.harmonic_centrality(graph)[node]\n",
    "            pagerank = nx.pagerank(graph)[node]\n",
    "            \n",
    "            try:\n",
    "                eigenvector_centrality = nx.eigenvector_centrality(graph)[node]    \n",
    "                katz_centrality = nx.katz_centrality(graph)[node]\n",
    "\n",
    "            except PowerIterationFailedConvergence:\n",
    "                # if the eigenvector centrality calculation fails, set it to None\n",
    "                eigenvector_centrality = None\n",
    "                katz_centrality = None\n",
    "\n",
    "            # add measures to dictionary\n",
    "            measures = {\n",
    "                'year': year,\n",
    "                'node_name': node_name,\n",
    "                'node_type': node_type,\n",
    "                'degree': degree,\n",
    "                'weight_sum': weight_sum,\n",
    "                'avg_weight': avg_weight,\n",
    "                'max_weight': max_weight,\n",
    "                'degree_centrality': degree_centrality,\n",
    "                'closeness_centrality': closeness_centrality,\n",
    "                'betweenness_centrality': betweenness_centrality,\n",
    "                'eigenvector_centrality': eigenvector_centrality,\n",
    "                'harmonic_centrality': harmonic_centrality,\n",
    "                'katz_centrality': katz_centrality,\n",
    "                'pagerank': pagerank\n",
    "            }\n",
    "\n",
    "            company_measure_list.append(measures)\n",
    "    \n",
    "    print(f\"Year: {year} finished\")\n",
    "\n",
    "df = pd.DataFrame(company_measure_list)\n",
    "\n",
    "# Save to Excel\n",
    "df.to_excel(\"./transformed_data/connected_shareholder_data/company_node_stats.xlsx\", index=False)"
   ]
  }
 ],
 "metadata": {
  "kernelspec": {
   "display_name": ".venv",
   "language": "python",
   "name": "python3"
  },
  "language_info": {
   "codemirror_mode": {
    "name": "ipython",
    "version": 3
   },
   "file_extension": ".py",
   "mimetype": "text/x-python",
   "name": "python",
   "nbconvert_exporter": "python",
   "pygments_lexer": "ipython3",
   "version": "3.12.1"
  }
 },
 "nbformat": 4,
 "nbformat_minor": 2
}
