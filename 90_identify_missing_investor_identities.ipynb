{
 "cells": [
  {
   "cell_type": "code",
   "execution_count": 10,
   "metadata": {},
   "outputs": [],
   "source": [
    "import pandas as pd"
   ]
  },
  {
   "cell_type": "code",
   "execution_count": 11,
   "metadata": {},
   "outputs": [
    {
     "name": "stdout",
     "output_type": "stream",
     "text": [
      "['Aalberts Industries NV' 'ABB' 'Akzo Nobel NV' 'Alstom SA' 'AREVA T&D SA'\n",
      " 'Asahi' 'AU Optronics' 'Koninklijke BAM Groep NV' nan 'Boliden AB'\n",
      " 'British Airways' 'Cathay Pacific Airways' 'Chemtura'\n",
      " 'Chimei InnoLux Corporation' 'Chiquita' 'Commerzbank AG' 'Del Monte '\n",
      " 'Dow' 'Elpida ' 'ENI' 'Exxon Mobil' 'Fuji Electric'\n",
      " 'Fujifilm Holdings Corp.' 'GDF SUEZ SA' 'HannStar Display Corporation'\n",
      " 'Henkel AG & Co. ' 'Hitachi Ltd.' 'Hitachi Maxell Limited' 'ICI'\n",
      " 'IMI PLC' 'Infineon' 'LG Display' 'Micron' 'Mitsubishi'\n",
      " 'Mueller Industries Inc' 'Nanya' 'NEC Corporation'\n",
      " 'Nippon Electric Glass' 'Panasonic Corporation' 'Pilkington'\n",
      " 'The Procter & Gamble Company' 'Qantas' 'Rautaruukki' 'Repsol YPF SA'\n",
      " 'Samsung' 'SAS AB' 'Siemens' 'Singapore Airlines'\n",
      " 'SKW Stahl- Metallurgie and ARQUES Industries' 'Sony Corporation'\n",
      " 'Toshiba' 'Total' 'Unilever NV' 'Unilever PLC' 'Unipetrol'\n",
      " 'United Technologies Corp.' 'Uralita' 'Whirlpool' 'Zeon']\n",
      "59\n"
     ]
    }
   ],
   "source": [
    "# Read Excel File which contains data on cartels and their corresponding firms\n",
    "df_entities = pd.read_excel(\"./raw_data/cartel_connections/Cartels.xls\", sheet_name='Data_on_all_cartelfirms')\n",
    "\n",
    "# Get unique entities from the \"Entity Name\" column\n",
    "entities = df_entities[\"Entity Name\"].unique()\n",
    "\n",
    "# Get all filenames from mapping file (contains all filenames)\n",
    "df_mapping = pd.read_excel(\"./raw_data/mapping/filename_to_entity_mapping.xlsx\")\n",
    "\n",
    "# if entity_name_direct_match column is not empty take entity_name_direct_match else take entity_name_indirect_match_1\n",
    "df_mapping['entity_name'] = df_mapping.apply(\n",
    "    lambda x: x['entity_name_direct_match'] if pd.notna(x['entity_name_direct_match']) else x['entity_name_indirect_match_1'], axis=1)\n",
    "\n",
    "# Get unique entities from the mapping file\n",
    "mapping_entities = df_mapping['entity_name'].unique()\n",
    "\n",
    "# count unique entities in the mapping file\n",
    "mapping_entities_count = len(mapping_entities)\n",
    "\n",
    "print(mapping_entities)\n",
    "print(mapping_entities_count)\n"
   ]
  },
  {
   "cell_type": "code",
   "execution_count": 12,
   "metadata": {},
   "outputs": [
    {
     "name": "stdout",
     "output_type": "stream",
     "text": [
      "Number of Entities with investor file: 58\n",
      "Number of Entities without investor file: 171\n",
      "Number of Entities total: 229\n"
     ]
    }
   ],
   "source": [
    "# define new dataframe with 2 columns entity_name and file_name\n",
    "df_results = pd.DataFrame(columns=['entity_name', 'file_name'])\n",
    "\n",
    "# Iterate through each entity to check if it exists in the mapping file\n",
    "for entity in entities:\n",
    "    # Check if the entity exists in the mapping file\n",
    "    if entity not in mapping_entities:\n",
    "        # add entity and None to the dataframe\n",
    "        df_results.loc[len(df_results)] = [entity, None]\n",
    "    else:\n",
    "        # Get the corresponding file name for the entity\n",
    "        file_name = df_mapping.loc[df_mapping['entity_name'] == entity, 'file_name'].values[0]\n",
    "        # add entity and file_name to the dataframe\n",
    "        df_results.loc[len(df_results)] = [entity, file_name]\n",
    "\n",
    "# count entities where file_name is not None\n",
    "df_results_count = df_results[df_results['file_name'].notna()].shape[0]\n",
    "# count entities where file_name is None\n",
    "df_results_none_count = df_results[df_results['file_name'].isna()].shape[0]\n",
    "\n",
    "print(f\"Number of Entities with investor file: {df_results_count}\")\n",
    "print(f\"Number of Entities without investor file: {df_results_none_count}\")\n",
    "print(f\"Number of Entities total: {len(df_results)}\")"
   ]
  },
  {
   "cell_type": "code",
   "execution_count": 13,
   "metadata": {},
   "outputs": [],
   "source": [
    "# save the results to a new Excel file\n",
    "df_results.to_excel(\"./temp_data/entities_with_corresponding_filenames.xlsx\", index=False)"
   ]
  },
  {
   "cell_type": "code",
   "execution_count": 14,
   "metadata": {},
   "outputs": [
    {
     "name": "stdout",
     "output_type": "stream",
     "text": [
      "Bayern\n",
      "Chungwa\n",
      "EON\n"
     ]
    }
   ],
   "source": [
    "# for each filename in df_mapping\n",
    "for file_name in df_mapping['file_name']:\n",
    "    # check if the file exists in the mapping file\n",
    "    if file_name not in df_results['file_name'].values:\n",
    "        # add file_name and None to the dataframe\n",
    "        print(file_name)\n"
   ]
  },
  {
   "cell_type": "code",
   "execution_count": 15,
   "metadata": {},
   "outputs": [],
   "source": [
    "import os\n",
    "\n",
    "# get all filenames from directory\n",
    "directory = \"./raw_data/company_shareholders/\"\n",
    "filenames = os.listdir(directory)\n",
    "# remove .xlsx from filenames\n",
    "filenames = [filename.replace('.xlsx', '') for filename in filenames]\n",
    "\n",
    "for filename in filenames:\n",
    "    # check if the file exists in the mapping file\n",
    "    if filename not in df_mapping['file_name'].values:\n",
    "        # add file_name and None to the dataframe\n",
    "        print(filename)"
   ]
  }
 ],
 "metadata": {
  "kernelspec": {
   "display_name": ".venv",
   "language": "python",
   "name": "python3"
  },
  "language_info": {
   "codemirror_mode": {
    "name": "ipython",
    "version": 3
   },
   "file_extension": ".py",
   "mimetype": "text/x-python",
   "name": "python",
   "nbconvert_exporter": "python",
   "pygments_lexer": "ipython3",
   "version": "3.12.1"
  }
 },
 "nbformat": 4,
 "nbformat_minor": 2
}
